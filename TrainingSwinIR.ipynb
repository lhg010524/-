{
  "nbformat": 4,
  "nbformat_minor": 0,
  "metadata": {
    "colab": {
      "provenance": []
    },
    "kernelspec": {
      "name": "python3",
      "display_name": "Python 3"
    },
    "language_info": {
      "name": "python"
    }
  },
  "cells": [
    {
      "cell_type": "markdown",
      "source": [
        "드라이브 마운트"
      ],
      "metadata": {
        "id": "Q0Gs9Wt9Lx33"
      }
    },
    {
      "cell_type": "code",
      "execution_count": null,
      "metadata": {
        "id": "t-ka1gBPJHdY"
      },
      "outputs": [],
      "source": [
        "from google.colab import drive\n",
        "drive.mount('/content/drive')"
      ]
    },
    {
      "cell_type": "markdown",
      "source": [
        "내 드라이브로 이동 (또는 project_space 디렉토리로 이동)"
      ],
      "metadata": {
        "id": "vuGesbuKL9J8"
      }
    },
    {
      "cell_type": "code",
      "source": [
        "%cd /content/drive/MyDrive/"
      ],
      "metadata": {
        "id": "LHpAib3EJQXr"
      },
      "execution_count": null,
      "outputs": []
    },
    {
      "cell_type": "markdown",
      "source": [
        "git clone 밑 requirements 설치"
      ],
      "metadata": {
        "id": "BWfnFK-dL_0F"
      }
    },
    {
      "cell_type": "code",
      "source": [
        "!git clone https://github.com/cszn/KAIR.git"
      ],
      "metadata": {
        "id": "CUgfNDHqJWaC"
      },
      "execution_count": null,
      "outputs": []
    },
    {
      "cell_type": "code",
      "source": [
        "%cd KAIR\n",
        "!pwd"
      ],
      "metadata": {
        "id": "64SYs47WMlFV"
      },
      "execution_count": null,
      "outputs": []
    },
    {
      "cell_type": "code",
      "source": [
        "!pip install -r requirement.txt"
      ],
      "metadata": {
        "id": "Yt1RoDLkJ42C"
      },
      "execution_count": null,
      "outputs": []
    },
    {
      "cell_type": "markdown",
      "source": [
        "테스트셋 폴더 생성"
      ],
      "metadata": {
        "id": "__Okc0-oMxWN"
      }
    },
    {
      "cell_type": "code",
      "source": [
        "!mkdir -p testsets/Set5/HR testsets/Set5/LR_bicubic/X4"
      ],
      "metadata": {
        "id": "UTYrD9gpJ-62"
      },
      "execution_count": null,
      "outputs": []
    },
    {
      "cell_type": "markdown",
      "source": [
        "[KAIR]  \n",
        "\n",
        "  |--[trainsets]  \n",
        "\n",
        "  |--|--[trainH] // put your train images here.  \n",
        "\n",
        "  |  \n",
        "\n",
        "  |--[testsets]  \n",
        "\n",
        "  |--|--[Set5]  \n",
        "\n",
        "  |--|--|--[HR]  put your test image heres. (default: 256*256)\n",
        "\n",
        "  |--|--|--[LR_bicubic]\n",
        "\n",
        "\n"
      ],
      "metadata": {
        "id": "ps-abG2eM5-l"
      }
    },
    {
      "cell_type": "markdown",
      "source": [
        "Make LR test image"
      ],
      "metadata": {
        "id": "hc_qJzogPRbN"
      }
    },
    {
      "cell_type": "code",
      "source": [
        "from PIL import Image\n",
        "import os\n",
        "\n",
        "# 디렉토리 설정\n",
        "hr_dir = \"testsets/Set5/HR\"  # HR 이미지를 저장할 디렉토리\n",
        "lr_dir = \"testsets/Set5/LR_bicubic/X4\"  # 생성된 LR 이미지를 저장할 디렉토리\n",
        "os.makedirs(lr_dir, exist_ok=True)\n",
        "\n",
        "# HR 이미지를 읽고 X4 다운스케일링하여 LR 생성\n",
        "for img_name in os.listdir(hr_dir):\n",
        "    hr_path = os.path.join(hr_dir, img_name)\n",
        "    lr_path = os.path.join(lr_dir, img_name)\n",
        "\n",
        "    # 파일만 처리하고 디렉토리는 무시\n",
        "    if os.path.isfile(hr_path):  # 디렉토리 무시 조건 추가\n",
        "        with Image.open(hr_path) as img:\n",
        "            # X4 다운스케일링\n",
        "            lr_img = img.resize((img.width // 4, img.height // 4), Image.BICUBIC)\n",
        "            lr_img.save(lr_path)\n",
        "\n",
        "print(f\"LR images saved to {lr_dir}\")"
      ],
      "metadata": {
        "id": "NOycbl09KDDC"
      },
      "execution_count": null,
      "outputs": []
    },
    {
      "cell_type": "markdown",
      "source": [
        "Before training, modify the parameters and definitions in train_swinir_sr_realworld_x4_psnr.json, main_train_psnr.py, model_base.py, model_plain.py, and utils_blindsr.py according to your requirements. after running train code, superresolution directory will created. put your pretrained .pth file in superresolution/models."
      ],
      "metadata": {
        "id": "GM7wL7oYPalp"
      }
    },
    {
      "cell_type": "code",
      "source": [
        "!python main_train_psnr.py --opt options/swinir/train_swinir_sr_realworld_x4_psnr.json"
      ],
      "metadata": {
        "id": "AD_88gODKHfZ"
      },
      "execution_count": null,
      "outputs": []
    },
    {
      "cell_type": "markdown",
      "source": [
        "Extract Average PSNR from train.log after training."
      ],
      "metadata": {
        "id": "1gcVaD_YPspg"
      }
    },
    {
      "cell_type": "code",
      "source": [
        "import re\n",
        "\n",
        "def extract_log_info(log_file_path, output_file_path):\n",
        "    with open(log_file_path, 'r', encoding='utf-8') as log_file:\n",
        "        lines = log_file.readlines()\n",
        "\n",
        "    pretrained_netG_pattern = r'pretrained_netG:\\s*(.*?)\\n'\n",
        "    epoch_psnr_pattern = r'<epoch:\\s*(\\d+),\\s*iter:\\s*(\\d+(?:,\\d+)*),\\s*Average PSNR\\s*:\\s*([\\d\\.]+)dB'\n",
        "\n",
        "    extracted_info = []\n",
        "\n",
        "    for line in lines:\n",
        "        pretrained_match = re.search(pretrained_netG_pattern, line)\n",
        "        epoch_psnr_match = re.search(epoch_psnr_pattern, line)\n",
        "\n",
        "        if pretrained_match:\n",
        "            extracted_info.append(f'pretrained_netG: {pretrained_match.group(1)}')\n",
        "        elif epoch_psnr_match:\n",
        "            epoch = epoch_psnr_match.group(1)\n",
        "            iteration = epoch_psnr_match.group(2)\n",
        "            psnr = epoch_psnr_match.group(3)\n",
        "            extracted_info.append(f'<epoch: {epoch}, iter: {iteration}, Average PSNR : {psnr}dB')\n",
        "\n",
        "    with open(output_file_path, 'w', encoding='utf-8') as output_file:\n",
        "        for info in extracted_info:\n",
        "            output_file.write(info + '\\n')\n",
        "\n",
        "# 샘플 로그 파일 경로와 출력 파일 경로 설정\n",
        "log_file_path = \"path_of_your_trainlog_file_directory\"\n",
        "output_file_path = \"path_of_your_extracted_output_file_directory\"\n",
        "\n",
        "# 함수 실행하여 텍스트 추출 및 저장\n",
        "extract_log_info(log_file_path, output_file_path)\n"
      ],
      "metadata": {
        "id": "26bpGdrmKXpD"
      },
      "execution_count": null,
      "outputs": []
    },
    {
      "cell_type": "markdown",
      "source": [
        "Draw graph"
      ],
      "metadata": {
        "id": "tmwupfiFP1P2"
      }
    },
    {
      "cell_type": "code",
      "source": [
        "import re\n",
        "import matplotlib.pyplot as plt\n",
        "\n",
        "def extract_log_info_with_lr(log_file_path):\n",
        "    with open(log_file_path, 'r', encoding='utf-8') as log_file:\n",
        "        lines = log_file.readlines()\n",
        "\n",
        "    epoch_psnr_pattern = r'<epoch: +?(\\d+), iter: +(\\d{1,3}(?:,\\d{3})?), Average PSNR : ([\\d\\.]+)dB'\n",
        "\n",
        "    iterations = []\n",
        "    psnr_values = []\n",
        "\n",
        "    for line in lines:\n",
        "        epoch_psnr_match = re.search(epoch_psnr_pattern, line)\n",
        "        if epoch_psnr_match:\n",
        "            iteration = epoch_psnr_match.group(2)\n",
        "            psnr = epoch_psnr_match.group(3)\n",
        "            iterations.append(int(iteration.replace(',', '')))\n",
        "            psnr_values.append(float(psnr))\n",
        "\n",
        "    # Plotting the graph for iterations vs Average PSNR\n",
        "    plt.figure(figsize=(10, 6))\n",
        "    plt.plot(iterations, psnr_values, label='Average PSNR', color='b', marker='o')\n",
        "\n",
        "    # Mark the learning rate change at iteration 12500\n",
        "    #lr_change_iteration = 12500\n",
        "    #plt.axvline(x=lr_change_iteration, color='r', linestyle='--', label='lr changed (1e-4 → 5e-5)')\n",
        "    #plt.text(lr_change_iteration, min(psnr_values), 'lr: 1e-4 → 5e-5', color='red', fontsize=10, rotation=90, verticalalignment='bottom')\n",
        "\n",
        "    # Add labels, title, and legend\n",
        "    plt.xlabel('Iteration')\n",
        "    plt.ylabel('Average PSNR (dB)')\n",
        "    plt.title('Average PSNR Over Iterations with Learning Rate Change')\n",
        "    plt.legend()\n",
        "    plt.grid(True)\n",
        "    plt.tight_layout()\n",
        "    plt.show()\n",
        "\n",
        "# 샘플 로그 파일 경로 설정\n",
        "log_file_path = \"path_of_your_extracted_output_file_directory\"\n",
        "\n",
        "# 함수 실행하여 그래프 그리기\n",
        "extract_log_info_with_lr(log_file_path)\n"
      ],
      "metadata": {
        "id": "XCWJP-qYKIEW"
      },
      "execution_count": null,
      "outputs": []
    }
  ]
}
